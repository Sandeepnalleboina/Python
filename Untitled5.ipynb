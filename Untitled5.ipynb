{
  "nbformat": 4,
  "nbformat_minor": 0,
  "metadata": {
    "colab": {
      "provenance": [],
      "authorship_tag": "ABX9TyOyDwd3Do0OkQhWmHBxmqCq",
      "include_colab_link": true
    },
    "kernelspec": {
      "name": "python3",
      "display_name": "Python 3"
    },
    "language_info": {
      "name": "python"
    }
  },
  "cells": [
    {
      "cell_type": "markdown",
      "metadata": {
        "id": "view-in-github",
        "colab_type": "text"
      },
      "source": [
        "<a href=\"https://colab.research.google.com/github/Sandeepnalleboina/Python/blob/main/Untitled5.ipynb\" target=\"_parent\"><img src=\"https://colab.research.google.com/assets/colab-badge.svg\" alt=\"Open In Colab\"/></a>"
      ]
    },
    {
      "cell_type": "markdown",
      "source": [
        " 1)Cricket World Cup Qualifier\n",
        "The cricket World Cup has started in Chefland. There are many teams participating in the group stage matches. Any team that scores\n",
        "12\n",
        "12 or more points in the group stage matches qualifies for the next stage.\n",
        "\n",
        "You know the score that a particular team has scored in the group stage matches. Determine if the team has qualified for the next stage or not.\n",
        "\n",
        "Input Format\n",
        "The first and only line of input consists of an integer\n",
        "X\n",
        "X denoting the total points scored by the given team in the group stage matches.\n",
        "\n",
        "Output Format\n",
        "Output Yes, if the team has qualified for the next stage, and No otherwise.\n",
        "\n",
        "You may print each character of the string in uppercase or lowercase (for example, the strings YES, yEs, yes, and yeS will all be treated as identical).\n",
        "\n",
        "Constraints"
      ],
      "metadata": {
        "id": "RWrgBNQYzb4Y"
      }
    },
    {
      "cell_type": "code",
      "source": [
        "n=int(input())\n",
        "if n>=12:\n",
        "    print(\"Yes\")\n",
        "else:\n",
        "    print(\"No\")"
      ],
      "metadata": {
        "colab": {
          "base_uri": "https://localhost:8080/"
        },
        "id": "jhuXwWHkzgiW",
        "outputId": "e4c78fd2-8dd3-41c8-8ea8-ed311a6042da"
      },
      "execution_count": null,
      "outputs": [
        {
          "output_type": "stream",
          "name": "stdout",
          "text": [
            "8\n",
            "No\n"
          ]
        }
      ]
    },
    {
      "cell_type": "markdown",
      "source": [
        "2)Lucky Seven\n",
        "Chef considers the number\n",
        "7\n",
        "7 lucky. As a result, he believes that the\n",
        "7\n",
        "7-th letter he sees on a day is his lucky letter of the day.\n",
        "\n",
        "You are given a string\n",
        "S\n",
        "S of length\n",
        "10\n",
        "10, denoting the first\n",
        "10\n",
        "10 letters Chef saw today.\n",
        "What is Chef's lucky letter?\n",
        "\n",
        "Input Format\n",
        "The only line of input contains a string\n",
        "S\n",
        "S, of length\n",
        "10\n",
        "10.\n",
        "Output Format\n",
        "Print a single character: Chef's lucky letter .\n",
        "Constraints\n",
        "S\n",
        "S has a length of\n",
        "10\n",
        "10\n",
        "S\n",
        "S contains only lowercase Latin letters (i.e, the characters 'a' to 'z')\n",
        "Sample 1:\n",
        "Input\n",
        "Output\n",
        "proceeding\n",
        "d\n",
        "Explanation:\n",
        "The\n",
        "7\n",
        "7-th character of\n",
        "\"proceeding\"\n",
        "\"proceeding\" is 'd', and hence that is Chef's lucky letter.\n",
        "\n",
        "Sample 2:\n",
        "Input\n",
        "Output\n",
        "outofsight\n",
        "i\n",
        "Explanation:\n",
        "The\n",
        "7\n",
        "7-th character of\n",
        "\"outofsight\"\n",
        "\"outofsight\" is 'i', and hence that is Chef's lucky letter."
      ],
      "metadata": {
        "id": "o9UU0K0VzmTU"
      }
    },
    {
      "cell_type": "code",
      "source": [
        "s=input()\n",
        "print(s[6])"
      ],
      "metadata": {
        "id": "qd_sZpRSzxCY"
      },
      "execution_count": null,
      "outputs": []
    },
    {
      "cell_type": "markdown",
      "source": [
        "3)Clear Day\n",
        "Chef classifies a day to be either rainy, cloudy, or clear.\n",
        "\n",
        "In a particular week, Chef finds\n",
        "X\n",
        "X days to be rainy and\n",
        "Y\n",
        "Y days to be cloudy.\n",
        "Find the number of clear days in the week.\n",
        "\n",
        "Input Format\n",
        "The first and only line of input will contain two space-separated integers\n",
        "X\n",
        "X and\n",
        "Y\n",
        "Y, denoting the number of rainy and cloudy days in the week.\n",
        "Output Format\n",
        "Output the number of clear days in the week.\n",
        "\n",
        "Constraints\n",
        "0\n",
        "≤\n",
        "X\n",
        ",\n",
        "Y\n",
        "≤\n",
        "7\n",
        "0≤X,Y≤7\n",
        "0\n",
        "≤\n",
        "X\n",
        "+\n",
        "Y\n",
        "≤\n",
        "7\n",
        "0≤X+Y≤7\n",
        "Sample 1:\n",
        "Input\n",
        "Output\n",
        "2 3\n",
        "2\n",
        "Explanation:\n",
        "There are\n",
        "7\n",
        "7 days in a week. If there are\n",
        "2\n",
        "2 rainy days and\n",
        "3\n",
        "3 cloudy days, then the remaining\n",
        "7\n",
        "−\n",
        "2\n",
        "−\n",
        "3\n",
        "=\n",
        "2\n",
        "7−2−3=2 days are clear.\n",
        "\n",
        "Sample 2:\n",
        "Input\n",
        "Output\n",
        "3 4\n",
        "0\n",
        "Explanation:\n",
        "If there are\n",
        "3\n",
        "3 rainy days and\n",
        "4\n",
        "4 cloudy days, then the remaining\n",
        "7\n",
        "−\n",
        "3\n",
        "−\n",
        "4\n",
        "=\n",
        "0\n",
        "7−3−4=0 days are clear."
      ],
      "metadata": {
        "id": "I8vzRprPz1fz"
      }
    },
    {
      "cell_type": "code",
      "source": [
        "x, y = map(int, input().split())\n",
        "print(7 - (x + y))"
      ],
      "metadata": {
        "id": "5drnIWauz73D"
      },
      "execution_count": null,
      "outputs": []
    },
    {
      "cell_type": "markdown",
      "source": [
        "4)Chef and Brain Speed\n",
        "In ChefLand, human brain speed is measured in bits per second (bps). Chef has a threshold limit of\n",
        "X\n",
        "X bits per second above which his calculations are prone to errors. If Chef is currently working at\n",
        "Y\n",
        "Y bits per second, is he prone to errors?\n",
        "\n",
        "If Chef is prone to errors print YES, otherwise print NO.\n",
        "\n",
        "Input Format\n",
        "The only line of input contains two space separated integers\n",
        "X\n",
        "X and\n",
        "Y\n",
        "Y — the threshold limit and the rate at which Chef is currently working at.\n",
        "\n",
        "Output Format\n",
        "If Chef is prone to errors print YES, otherwise print NO.\n",
        "\n",
        "You may print each character of the string in uppercase or lowercase (for example, the strings yes, Yes, yEs, and YES will all be treated as identical).\n",
        "\n",
        "Constraints\n",
        "1\n",
        "≤\n",
        "X\n",
        ",\n",
        "Y\n",
        "≤\n",
        "100\n",
        "1≤X,Y≤100"
      ],
      "metadata": {
        "id": "TwnaqNiLNBRL"
      }
    },
    {
      "cell_type": "code",
      "source": [
        "x,y = map(int,input().split())\n",
        "\n",
        "if x<y:\n",
        "    print('Yes')\n",
        "else :\n",
        "    print('No')"
      ],
      "metadata": {
        "id": "0N03F1-bNE7H"
      },
      "execution_count": null,
      "outputs": []
    }
  ]
}